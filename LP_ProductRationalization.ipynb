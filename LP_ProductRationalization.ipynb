{
 "cells": [
  {
   "cell_type": "markdown",
   "id": "70f022ac",
   "metadata": {},
   "source": [
    "## Product Rationalization LP Problem"
   ]
  },
  {
   "cell_type": "code",
   "execution_count": 3,
   "id": "eb15f461",
   "metadata": {},
   "outputs": [],
   "source": [
    "from pulp import LpMaximize, LpMinimize, LpProblem, LpStatus, lpSum, LpVariable\n",
    "import pandas as pd\n",
    "import numpy as np"
   ]
  },
  {
   "cell_type": "markdown",
   "id": "7a60b037",
   "metadata": {},
   "source": [
    "The Molokai Nut Company (MNC) makes four different products from macadamia nuts grown in the Hawaiian Islands:  chocolate-coated whole nuts (Whole), chocolate-coated nut clusters (Cluster), chocolate-coated nut crunch bars (Crunch) and plain roasted nuts (Roasted).\n",
    "\n",
    "To meet marketing demands for the coming week, MNC needs to produce at least 1,000 pounds of the Whole product, between 400 and 500 pounds of the Cluster product, no more than 150 pounds of the Crunch product and no more than 200 pounds of the Roasted product.\n",
    "\n",
    "Each pound of the Whole, Cluster, Crunch and Roasted product contains, respectively, 60%, 40%, 20% and 100% macadamia nuts with the remaining weight made up of chocolate coating.  The company has 1100 pounds of nuts and 800 pounds of chocolate available for use in the next week.  \n",
    "\n",
    "The various products are made using four different machines that hull the nuts, roast the nuts, coat the nuts in chocolate, and package the products.  Table 1 summarizes the time required in minutes for each product on each machine.  Each machine has 60 hours of production time available in the coming week.\n",
    "\n",
    "**Table 1: Machine Minutes Required per Pound**\n",
    "\n",
    "|Machine  |Whole    |Cluster     |Crunch     |Roasted      |\n",
    "|:-------:|:-------:|:----------:|:---------:|:-----------:|\n",
    "|Hulling  |1.00     |1.00        |1.00       |1.00         |\n",
    "|Roasting |2.00     |1.50        |1.00       |4.00         |\n",
    "|Coating  |1.00     |0.70        |0.20       |0            |\n",
    "|Packaging|2.50     |1.60        |1.25       |1.00         |\n",
    "\n",
    "The company's controller recently presented management with a financial summary of MNC's average weekly operations over the past quarter.  The Variable Margin per pound for each of the products is shown below.\n",
    "\n",
    "|Product      |VM/lb       |\n",
    "|:-----------:|:----------:|\n",
    "|Whole        |\\\\$1.93     |\n",
    "|Cluster      |\\\\$1.04     |\n",
    "|Crunch       |\\\\$1.15     |\n",
    "|Roasted      |\\\\$1.33     |\n",
    "\n",
    "A. Build a linear programming model to identify the production levels for MNC's four products that maximize total VM.\n",
    "\n",
    "B. If MNC wanted to decrease the production of any product, which product would you recommend and why?\n",
    "\n",
    "C. Which machine capacities would you recommend the company look into expanding?  If they can only expand one machine capacity, which machine should they target?"
   ]
  },
  {
   "cell_type": "markdown",
   "id": "57831ce1",
   "metadata": {},
   "source": [
    "### A. Build a linear programming model to identify the production levels for MNC's four products that maximize total VM"
   ]
  },
  {
   "cell_type": "code",
   "execution_count": 4,
   "id": "0dc6c2d3",
   "metadata": {},
   "outputs": [
    {
     "data": {
      "text/html": [
       "<div>\n",
       "<style scoped>\n",
       "    .dataframe tbody tr th:only-of-type {\n",
       "        vertical-align: middle;\n",
       "    }\n",
       "\n",
       "    .dataframe tbody tr th {\n",
       "        vertical-align: top;\n",
       "    }\n",
       "\n",
       "    .dataframe thead th {\n",
       "        text-align: right;\n",
       "    }\n",
       "</style>\n",
       "<table border=\"1\" class=\"dataframe\">\n",
       "  <thead>\n",
       "    <tr style=\"text-align: right;\">\n",
       "      <th></th>\n",
       "      <th>Hulling</th>\n",
       "      <th>Roasting</th>\n",
       "      <th>Coating</th>\n",
       "      <th>Packaging</th>\n",
       "      <th>nuts</th>\n",
       "      <th>chocolate</th>\n",
       "      <th>price</th>\n",
       "    </tr>\n",
       "  </thead>\n",
       "  <tbody>\n",
       "    <tr>\n",
       "      <th>Whole</th>\n",
       "      <td>1.0</td>\n",
       "      <td>2.0</td>\n",
       "      <td>1.0</td>\n",
       "      <td>2.50</td>\n",
       "      <td>0.6</td>\n",
       "      <td>0.4</td>\n",
       "      <td>1.93</td>\n",
       "    </tr>\n",
       "    <tr>\n",
       "      <th>Cluster</th>\n",
       "      <td>1.0</td>\n",
       "      <td>1.5</td>\n",
       "      <td>0.7</td>\n",
       "      <td>1.60</td>\n",
       "      <td>0.4</td>\n",
       "      <td>0.6</td>\n",
       "      <td>1.04</td>\n",
       "    </tr>\n",
       "    <tr>\n",
       "      <th>Crunch</th>\n",
       "      <td>1.0</td>\n",
       "      <td>1.0</td>\n",
       "      <td>0.2</td>\n",
       "      <td>1.25</td>\n",
       "      <td>0.2</td>\n",
       "      <td>0.8</td>\n",
       "      <td>1.15</td>\n",
       "    </tr>\n",
       "    <tr>\n",
       "      <th>Roasted</th>\n",
       "      <td>1.0</td>\n",
       "      <td>4.0</td>\n",
       "      <td>0.0</td>\n",
       "      <td>1.00</td>\n",
       "      <td>1.0</td>\n",
       "      <td>0.0</td>\n",
       "      <td>1.33</td>\n",
       "    </tr>\n",
       "  </tbody>\n",
       "</table>\n",
       "</div>"
      ],
      "text/plain": [
       "         Hulling  Roasting  Coating  Packaging  nuts  chocolate  price\n",
       "Whole        1.0       2.0      1.0       2.50   0.6        0.4   1.93\n",
       "Cluster      1.0       1.5      0.7       1.60   0.4        0.6   1.04\n",
       "Crunch       1.0       1.0      0.2       1.25   0.2        0.8   1.15\n",
       "Roasted      1.0       4.0      0.0       1.00   1.0        0.0   1.33"
      ]
     },
     "execution_count": 4,
     "metadata": {},
     "output_type": "execute_result"
    }
   ],
   "source": [
    "data = {'Whole':{'Hulling': 1.0, 'Roasting': 2.00, 'Coating': 1.00, 'Packaging': 2.50, 'nuts': 0.6, 'chocolate': 0.4, 'price': 1.93},\n",
    "       'Cluster':{'Hulling': 1.0, 'Roasting': 1.50, 'Coating': 0.70, 'Packaging': 1.60, 'nuts': 0.4, 'chocolate': 0.6,'price': 1.04},\n",
    "       'Crunch':{'Hulling': 1.0, 'Roasting': 1.00, 'Coating': 0.20, 'Packaging': 1.25, 'nuts': 0.2, 'chocolate': 0.8, 'price': 1.15},\n",
    "       'Roasted':{'Hulling': 1.0, 'Roasting': 4.00, 'Coating': 0.00, 'Packaging': 1.00, 'nuts': 1, 'chocolate': 0, 'price': 1.33}}\n",
    "\n",
    "df = pd.DataFrame(data).T\n",
    "df\n"
   ]
  },
  {
   "cell_type": "code",
   "execution_count": 5,
   "id": "272122f8",
   "metadata": {},
   "outputs": [],
   "source": [
    "model = LpProblem(\"ProductDecision\", LpMaximize)"
   ]
  },
  {
   "cell_type": "code",
   "execution_count": 6,
   "id": "148ec066",
   "metadata": {},
   "outputs": [
    {
     "data": {
      "text/plain": [
       "{'Whole': productNum__Whole,\n",
       " 'Cluster': productNum__Cluster,\n",
       " 'Crunch': productNum__Crunch,\n",
       " 'Roasted': productNum__Roasted}"
      ]
     },
     "execution_count": 6,
     "metadata": {},
     "output_type": "execute_result"
    }
   ],
   "source": [
    "Number = LpVariable.dicts(\"productNum_\", df.index , lowBound = 0)\n",
    "Number"
   ]
  },
  {
   "cell_type": "code",
   "execution_count": 7,
   "id": "3c33708e",
   "metadata": {},
   "outputs": [
    {
     "data": {
      "text/plain": [
       "ProductDecision:\n",
       "MAXIMIZE\n",
       "1.04*productNum__Cluster + 1.15*productNum__Crunch + 1.33*productNum__Roasted + 1.93*productNum__Whole + 0.0\n",
       "VARIABLES\n",
       "productNum__Cluster Continuous\n",
       "productNum__Crunch Continuous\n",
       "productNum__Roasted Continuous\n",
       "productNum__Whole Continuous"
      ]
     },
     "execution_count": 7,
     "metadata": {},
     "output_type": "execute_result"
    }
   ],
   "source": [
    "model += lpSum(Number[p] * df.loc[p,'price'] for p in df.index)\n",
    "model"
   ]
  },
  {
   "cell_type": "code",
   "execution_count": 8,
   "id": "6571646a",
   "metadata": {},
   "outputs": [],
   "source": [
    "model += Number['Whole'] >= 1000\n",
    "model += Number['Cluster'] >= 400\n",
    "model += Number['Cluster'] <= 500\n",
    "model += Number['Crunch'] <= 150\n",
    "model += Number['Roasted'] <= 200"
   ]
  },
  {
   "cell_type": "code",
   "execution_count": 9,
   "id": "b4c26b21",
   "metadata": {
    "scrolled": true
   },
   "outputs": [
    {
     "data": {
      "text/plain": [
       "ProductDecision:\n",
       "MAXIMIZE\n",
       "1.04*productNum__Cluster + 1.15*productNum__Crunch + 1.33*productNum__Roasted + 1.93*productNum__Whole + 0.0\n",
       "SUBJECT TO\n",
       "_C1: productNum__Whole >= 1000\n",
       "\n",
       "_C2: productNum__Cluster >= 400\n",
       "\n",
       "_C3: productNum__Cluster <= 500\n",
       "\n",
       "_C4: productNum__Crunch <= 150\n",
       "\n",
       "_C5: productNum__Roasted <= 200\n",
       "\n",
       "VARIABLES\n",
       "productNum__Cluster Continuous\n",
       "productNum__Crunch Continuous\n",
       "productNum__Roasted Continuous\n",
       "productNum__Whole Continuous"
      ]
     },
     "execution_count": 9,
     "metadata": {},
     "output_type": "execute_result"
    }
   ],
   "source": [
    "model"
   ]
  },
  {
   "cell_type": "code",
   "execution_count": 10,
   "id": "e4bed782",
   "metadata": {},
   "outputs": [],
   "source": [
    "machine = ['Hulling', 'Roasting', 'Coating', 'Packaging']\n",
    "for m in machine:\n",
    "    model += lpSum(Number[p] * df.loc[p,m] for p in df.index) <= 3600"
   ]
  },
  {
   "cell_type": "code",
   "execution_count": 11,
   "id": "26c2751f",
   "metadata": {},
   "outputs": [
    {
     "data": {
      "text/plain": [
       "ProductDecision:\n",
       "MAXIMIZE\n",
       "1.04*productNum__Cluster + 1.15*productNum__Crunch + 1.33*productNum__Roasted + 1.93*productNum__Whole + 0.0\n",
       "SUBJECT TO\n",
       "_C1: productNum__Whole >= 1000\n",
       "\n",
       "_C2: productNum__Cluster >= 400\n",
       "\n",
       "_C3: productNum__Cluster <= 500\n",
       "\n",
       "_C4: productNum__Crunch <= 150\n",
       "\n",
       "_C5: productNum__Roasted <= 200\n",
       "\n",
       "_C6: productNum__Cluster + productNum__Crunch + productNum__Roasted\n",
       " + productNum__Whole <= 3600\n",
       "\n",
       "_C7: 1.5 productNum__Cluster + productNum__Crunch + 4 productNum__Roasted\n",
       " + 2 productNum__Whole <= 3600\n",
       "\n",
       "_C8: 0.7 productNum__Cluster + 0.2 productNum__Crunch + productNum__Whole\n",
       " <= 3600\n",
       "\n",
       "_C9: 1.6 productNum__Cluster + 1.25 productNum__Crunch + productNum__Roasted\n",
       " + 2.5 productNum__Whole <= 3600\n",
       "\n",
       "VARIABLES\n",
       "productNum__Cluster Continuous\n",
       "productNum__Crunch Continuous\n",
       "productNum__Roasted Continuous\n",
       "productNum__Whole Continuous"
      ]
     },
     "execution_count": 11,
     "metadata": {},
     "output_type": "execute_result"
    }
   ],
   "source": [
    "model"
   ]
  },
  {
   "cell_type": "code",
   "execution_count": 12,
   "id": "1cfcace3",
   "metadata": {},
   "outputs": [],
   "source": [
    "model += lpSum(Number[p] * df.loc[p,'nuts'] for p in df.index) <= 1100\n",
    "model += lpSum(Number[p] * df.loc[p,'chocolate'] for p in df.index) <= 800"
   ]
  },
  {
   "cell_type": "code",
   "execution_count": 13,
   "id": "9aab5a0f",
   "metadata": {},
   "outputs": [
    {
     "data": {
      "text/plain": [
       "ProductDecision:\n",
       "MAXIMIZE\n",
       "1.04*productNum__Cluster + 1.15*productNum__Crunch + 1.33*productNum__Roasted + 1.93*productNum__Whole + 0.0\n",
       "SUBJECT TO\n",
       "_C1: productNum__Whole >= 1000\n",
       "\n",
       "_C2: productNum__Cluster >= 400\n",
       "\n",
       "_C3: productNum__Cluster <= 500\n",
       "\n",
       "_C4: productNum__Crunch <= 150\n",
       "\n",
       "_C5: productNum__Roasted <= 200\n",
       "\n",
       "_C6: productNum__Cluster + productNum__Crunch + productNum__Roasted\n",
       " + productNum__Whole <= 3600\n",
       "\n",
       "_C7: 1.5 productNum__Cluster + productNum__Crunch + 4 productNum__Roasted\n",
       " + 2 productNum__Whole <= 3600\n",
       "\n",
       "_C8: 0.7 productNum__Cluster + 0.2 productNum__Crunch + productNum__Whole\n",
       " <= 3600\n",
       "\n",
       "_C9: 1.6 productNum__Cluster + 1.25 productNum__Crunch + productNum__Roasted\n",
       " + 2.5 productNum__Whole <= 3600\n",
       "\n",
       "_C10: 0.4 productNum__Cluster + 0.2 productNum__Crunch + productNum__Roasted\n",
       " + 0.6 productNum__Whole <= 1100\n",
       "\n",
       "_C11: 0.6 productNum__Cluster + 0.8 productNum__Crunch + 0.4 productNum__Whole\n",
       " <= 800\n",
       "\n",
       "VARIABLES\n",
       "productNum__Cluster Continuous\n",
       "productNum__Crunch Continuous\n",
       "productNum__Roasted Continuous\n",
       "productNum__Whole Continuous"
      ]
     },
     "execution_count": 13,
     "metadata": {},
     "output_type": "execute_result"
    }
   ],
   "source": [
    "model"
   ]
  },
  {
   "cell_type": "code",
   "execution_count": 14,
   "id": "4148e105",
   "metadata": {},
   "outputs": [
    {
     "data": {
      "text/plain": [
       "1"
      ]
     },
     "execution_count": 14,
     "metadata": {},
     "output_type": "execute_result"
    }
   ],
   "source": [
    "model.solve()"
   ]
  },
  {
   "cell_type": "code",
   "execution_count": 15,
   "id": "736248aa",
   "metadata": {},
   "outputs": [
    {
     "data": {
      "text/plain": [
       "'Optimal'"
      ]
     },
     "execution_count": 15,
     "metadata": {},
     "output_type": "execute_result"
    }
   ],
   "source": [
    "LpStatus[model.status]"
   ]
  },
  {
   "cell_type": "code",
   "execution_count": 16,
   "id": "c7b208f8",
   "metadata": {},
   "outputs": [
    {
     "data": {
      "text/plain": [
       "2839.075"
      ]
     },
     "execution_count": 16,
     "metadata": {},
     "output_type": "execute_result"
    }
   ],
   "source": [
    "model.objective.value()"
   ]
  },
  {
   "cell_type": "code",
   "execution_count": 17,
   "id": "271bba16",
   "metadata": {},
   "outputs": [
    {
     "name": "stdout",
     "output_type": "stream",
     "text": [
      "productNum__Cluster: 400.0\n",
      "productNum__Crunch: 150.0\n",
      "productNum__Roasted: 197.5\n",
      "productNum__Whole: 1030.0\n"
     ]
    }
   ],
   "source": [
    "for v in model.variables(): print(f\"{v.name}: {v.varValue}\")"
   ]
  },
  {
   "cell_type": "markdown",
   "id": "ba0d7607",
   "metadata": {},
   "source": [
    "**The maximum total variable margin is 2839.075.**\n",
    "- Cluster: 400.0\n",
    "- Crunch: 150.0\n",
    "- Roasted: 197.5\n",
    "- Whole: 1030.0"
   ]
  },
  {
   "cell_type": "markdown",
   "id": "3a635fcc",
   "metadata": {},
   "source": [
    "### B. If MNC wanted to decrease the production of any product, which product would you recommend and why?"
   ]
  },
  {
   "cell_type": "markdown",
   "id": "3d870bb8",
   "metadata": {},
   "source": [
    "- Reduce the production of Whole"
   ]
  },
  {
   "cell_type": "code",
   "execution_count": 20,
   "id": "80d9e57f",
   "metadata": {},
   "outputs": [
    {
     "name": "stdout",
     "output_type": "stream",
     "text": [
      "1\n",
      "Optimal\n",
      "2839.075\n",
      "productNum__Cluster: 400.0\n",
      "productNum__Crunch: 150.0\n",
      "productNum__Roasted: 197.5\n",
      "productNum__Whole: 1030.0\n"
     ]
    }
   ],
   "source": [
    "model = LpProblem(\"ProductDecision\", LpMaximize)\n",
    "Number = LpVariable.dicts(\"productNum_\", df.index , lowBound = 0)\n",
    "model += lpSum(Number[p] * df.loc[p,'price'] for p in df.index)\n",
    "model += Number['Whole'] >= 900\n",
    "model += Number['Cluster'] >= 400\n",
    "model += Number['Cluster'] <= 500\n",
    "model += Number['Crunch'] <= 150\n",
    "model += Number['Roasted'] <= 200\n",
    "machine = ['Hulling', 'Roasting', 'Coating', 'Packaging']\n",
    "for m in machine:\n",
    "    model += lpSum(Number[p] * df.loc[p,m] for p in df.index) <= 3600\n",
    "model += lpSum(Number[p] * df.loc[p,'nuts'] for p in df.index) <= 1100\n",
    "model += lpSum(Number[p] * df.loc[p,'chocolate'] for p in df.index) <= 800\n",
    "print(model.solve())\n",
    "print(LpStatus[model.status])\n",
    "print(model.objective.value())\n",
    "for v in model.variables(): print(f\"{v.name}: {v.varValue}\")"
   ]
  },
  {
   "cell_type": "markdown",
   "id": "9682e567",
   "metadata": {},
   "source": [
    "- Reduce the production of Cluster"
   ]
  },
  {
   "cell_type": "code",
   "execution_count": 21,
   "id": "5ddda35e",
   "metadata": {},
   "outputs": [
    {
     "name": "stdout",
     "output_type": "stream",
     "text": [
      "1\n",
      "Optimal\n",
      "2859.99\n",
      "productNum__Cluster: 300.0\n",
      "productNum__Crunch: 150.0\n",
      "productNum__Roasted: 200.0\n",
      "productNum__Whole: 1093.0\n"
     ]
    }
   ],
   "source": [
    "model = LpProblem(\"ProductDecision\", LpMaximize)\n",
    "Number = LpVariable.dicts(\"productNum_\", df.index , lowBound = 0)\n",
    "model += lpSum(Number[p] * df.loc[p,'price'] for p in df.index)\n",
    "model += Number['Whole'] >= 1000\n",
    "model += Number['Cluster'] >= 300\n",
    "model += Number['Cluster'] <= 400\n",
    "model += Number['Crunch'] <= 150\n",
    "model += Number['Roasted'] <= 200\n",
    "machine = ['Hulling', 'Roasting', 'Coating', 'Packaging']\n",
    "for m in machine:\n",
    "    model += lpSum(Number[p] * df.loc[p,m] for p in df.index) <= 3600\n",
    "model += lpSum(Number[p] * df.loc[p,'nuts'] for p in df.index) <= 1100\n",
    "model += lpSum(Number[p] * df.loc[p,'chocolate'] for p in df.index) <= 800\n",
    "print(model.solve())\n",
    "print(LpStatus[model.status])\n",
    "print(model.objective.value())\n",
    "for v in model.variables(): print(f\"{v.name}: {v.varValue}\")"
   ]
  },
  {
   "cell_type": "markdown",
   "id": "498a3f50",
   "metadata": {},
   "source": [
    "- Reduce the production of Crunch"
   ]
  },
  {
   "cell_type": "code",
   "execution_count": 22,
   "id": "7220670b",
   "metadata": {},
   "outputs": [
    {
     "name": "stdout",
     "output_type": "stream",
     "text": [
      "1\n",
      "Optimal\n",
      "2820.5750000000003\n",
      "productNum__Cluster: 400.0\n",
      "productNum__Crunch: 50.0\n",
      "productNum__Roasted: 197.5\n",
      "productNum__Whole: 1080.0\n"
     ]
    }
   ],
   "source": [
    "model = LpProblem(\"ProductDecision\", LpMaximize)\n",
    "Number = LpVariable.dicts(\"productNum_\", df.index , lowBound = 0)\n",
    "model += lpSum(Number[p] * df.loc[p,'price'] for p in df.index)\n",
    "model += Number['Whole'] >= 1000\n",
    "model += Number['Cluster'] >= 400\n",
    "model += Number['Cluster'] <= 500\n",
    "model += Number['Crunch'] <= 50\n",
    "model += Number['Roasted'] <= 200\n",
    "machine = ['Hulling', 'Roasting', 'Coating', 'Packaging']\n",
    "for m in machine:\n",
    "    model += lpSum(Number[p] * df.loc[p,m] for p in df.index) <= 3600\n",
    "model += lpSum(Number[p] * df.loc[p,'nuts'] for p in df.index) <= 1100\n",
    "model += lpSum(Number[p] * df.loc[p,'chocolate'] for p in df.index) <= 800\n",
    "print(model.solve())\n",
    "print(LpStatus[model.status])\n",
    "print(model.objective.value())\n",
    "for v in model.variables(): print(f\"{v.name}: {v.varValue}\")"
   ]
  },
  {
   "cell_type": "markdown",
   "id": "ca0cc21a",
   "metadata": {},
   "source": [
    "- Reduce the production of Roasted"
   ]
  },
  {
   "cell_type": "code",
   "execution_count": 23,
   "id": "ef40c88b",
   "metadata": {},
   "outputs": [
    {
     "name": "stdout",
     "output_type": "stream",
     "text": [
      "1\n",
      "Optimal\n",
      "2784.67\n",
      "productNum__Cluster: 400.0\n",
      "productNum__Crunch: 150.0\n",
      "productNum__Roasted: 100.0\n",
      "productNum__Whole: 1069.0\n"
     ]
    }
   ],
   "source": [
    "model = LpProblem(\"ProductDecision\", LpMaximize)\n",
    "Number = LpVariable.dicts(\"productNum_\", df.index , lowBound = 0)\n",
    "model += lpSum(Number[p] * df.loc[p,'price'] for p in df.index)\n",
    "model += Number['Whole'] >= 1000\n",
    "model += Number['Cluster'] >= 400\n",
    "model += Number['Cluster'] <= 500\n",
    "model += Number['Crunch'] <= 150\n",
    "model += Number['Roasted'] <= 100\n",
    "machine = ['Hulling', 'Roasting', 'Coating', 'Packaging']\n",
    "for m in machine:\n",
    "    model += lpSum(Number[p] * df.loc[p,m] for p in df.index) <= 3600\n",
    "model += lpSum(Number[p] * df.loc[p,'nuts'] for p in df.index) <= 1100\n",
    "model += lpSum(Number[p] * df.loc[p,'chocolate'] for p in df.index) <= 800\n",
    "print(model.solve())\n",
    "print(LpStatus[model.status])\n",
    "print(model.objective.value())\n",
    "for v in model.variables(): print(f\"{v.name}: {v.varValue}\")"
   ]
  },
  {
   "cell_type": "markdown",
   "id": "3f7e8394",
   "metadata": {},
   "source": [
    "#### Conclusion: If MNC wanted to decrease the production of any product, I will recommend cluster products. When we decrease the amount requirement of cluster products in our model, the total variable margin increases."
   ]
  },
  {
   "cell_type": "markdown",
   "id": "7c5380ab",
   "metadata": {},
   "source": [
    "### C. Which machine capacities would you recommend the company look into expanding? If they can only expand one machine capacity, which machine should they target?"
   ]
  },
  {
   "cell_type": "code",
   "execution_count": 24,
   "id": "1bc0dcbd",
   "metadata": {},
   "outputs": [
    {
     "name": "stdout",
     "output_type": "stream",
     "text": [
      "1\n",
      "Optimal\n",
      "2839.075\n",
      "_C1: 1030.0\n",
      "_C2: 400.0\n",
      "_C3: 400.0\n",
      "_C4: 150.0\n",
      "_C5: 197.5\n",
      "_C6: 1777.5\n",
      "_C7: 3600.0\n",
      "_C8: 1340.0\n",
      "_C9: 3600.0\n",
      "_C10: 1005.5\n",
      "_C11: 772.0\n"
     ]
    }
   ],
   "source": [
    "model = LpProblem(\"ProductDecision\", LpMaximize)\n",
    "Number = LpVariable.dicts(\"productNum_\", df.index , lowBound = 0)\n",
    "model += lpSum(Number[p] * df.loc[p,'price'] for p in df.index)\n",
    "model += Number['Whole'] >= 1000\n",
    "model += Number['Cluster'] >= 400\n",
    "model += Number['Cluster'] <= 500\n",
    "model += Number['Crunch'] <= 150\n",
    "model += Number['Roasted'] <= 200\n",
    "machine = ['Hulling', 'Roasting', 'Coating', 'Packaging']\n",
    "for m in machine:\n",
    "    model += lpSum(Number[p] * df.loc[p,m] for p in df.index) <= 3600\n",
    "model += lpSum(Number[p] * df.loc[p,'nuts'] for p in df.index) <= 1100\n",
    "model += lpSum(Number[p] * df.loc[p,'chocolate'] for p in df.index) <= 800\n",
    "print(model.solve())\n",
    "print(LpStatus[model.status])\n",
    "print(model.objective.value())\n",
    "for name, constraint in model.constraints.items(): print(f\"{name}: {(constraint.value() - constraint.constant)}\")"
   ]
  },
  {
   "cell_type": "markdown",
   "id": "8c4b2257",
   "metadata": {},
   "source": [
    "From the model in question a, we find that when roasting and packaging machines reach full capacity, hulling and coating machine still remain a lots working hours. So, we want recommend the compant to expand roasting and packaging machines."
   ]
  },
  {
   "cell_type": "markdown",
   "id": "db1bed23",
   "metadata": {},
   "source": [
    "- Expanding Roasting and Packaging Machines"
   ]
  },
  {
   "cell_type": "code",
   "execution_count": 26,
   "id": "c48763b3",
   "metadata": {},
   "outputs": [
    {
     "name": "stdout",
     "output_type": "stream",
     "text": [
      "1\n",
      "Optimal\n",
      "3130.5635519499997\n",
      "_C1: 1225.4545\n",
      "_C2: 400.0\n",
      "_C3: 400.0\n",
      "_C4: 87.272727\n",
      "_C5: 187.27273\n",
      "_C6: 1899.9999569999998\n",
      "_C7: 3887.2726470000002\n",
      "_C8: 1522.9090453999997\n",
      "_C9: 3999.99988875\n",
      "_C10: 1099.9999754\n",
      "_C11: 799.9999816000001\n"
     ]
    }
   ],
   "source": [
    "model = LpProblem(\"ProductDecision\", LpMaximize)\n",
    "Number = LpVariable.dicts(\"productNum_\", df.index , lowBound = 0)\n",
    "model += lpSum(Number[p] * df.loc[p,'price'] for p in df.index)\n",
    "model += Number['Whole'] >= 1000\n",
    "model += Number['Cluster'] >= 400\n",
    "model += Number['Cluster'] <= 500\n",
    "model += Number['Crunch'] <= 150\n",
    "model += Number['Roasted'] <= 200\n",
    "machine = ['Hulling', 'Roasting', 'Coating', 'Packaging']\n",
    "model += lpSum(Number[p] * df.loc[p,'Hulling'] for p in df.index) <= 3600\n",
    "model += lpSum(Number[p] * df.loc[p,'Roasting'] for p in df.index) <= 4000\n",
    "model += lpSum(Number[p] * df.loc[p,'Coating'] for p in df.index) <= 3600\n",
    "model += lpSum(Number[p] * df.loc[p,'Packaging'] for p in df.index) <= 4000\n",
    "model += lpSum(Number[p] * df.loc[p,'nuts'] for p in df.index) <= 1100\n",
    "model += lpSum(Number[p] * df.loc[p,'chocolate'] for p in df.index) <= 800\n",
    "print(model.solve())\n",
    "print(LpStatus[model.status])\n",
    "print(model.objective.value())\n",
    "for name, constraint in model.constraints.items(): print(f\"{name}: {(constraint.value() - constraint.constant)}\")"
   ]
  },
  {
   "cell_type": "markdown",
   "id": "fbcffe67",
   "metadata": {},
   "source": [
    "Next, we need more tests in deciding which machine to expand."
   ]
  },
  {
   "cell_type": "markdown",
   "id": "7365f7c4",
   "metadata": {},
   "source": [
    "- Expanding Roasting Machines"
   ]
  },
  {
   "cell_type": "code",
   "execution_count": 28,
   "id": "7304572e",
   "metadata": {},
   "outputs": [
    {
     "name": "stdout",
     "output_type": "stream",
     "text": [
      "1\n",
      "Optimal\n",
      "2840.4700000000003\n",
      "_C1: 1029.0\n",
      "_C2: 400.0\n",
      "_C3: 400.0\n",
      "_C4: 150.0\n",
      "_C5: 200.0\n",
      "_C6: 1779.0\n",
      "_C7: 3608.0\n",
      "_C8: 1339.0\n",
      "_C9: 3600.0\n",
      "_C10: 1007.4\n",
      "_C11: 771.6\n"
     ]
    }
   ],
   "source": [
    "model = LpProblem(\"ProductDecision\", LpMaximize)\n",
    "Number = LpVariable.dicts(\"productNum_\", df.index , lowBound = 0)\n",
    "model += lpSum(Number[p] * df.loc[p,'price'] for p in df.index)\n",
    "model += Number['Whole'] >= 1000\n",
    "model += Number['Cluster'] >= 400\n",
    "model += Number['Cluster'] <= 500\n",
    "model += Number['Crunch'] <= 150\n",
    "model += Number['Roasted'] <= 200\n",
    "machine = ['Hulling', 'Roasting', 'Coating', 'Packaging']\n",
    "model += lpSum(Number[p] * df.loc[p,'Hulling'] for p in df.index) <= 3600\n",
    "model += lpSum(Number[p] * df.loc[p,'Roasting'] for p in df.index) <= 4000\n",
    "model += lpSum(Number[p] * df.loc[p,'Coating'] for p in df.index) <= 3600\n",
    "model += lpSum(Number[p] * df.loc[p,'Packaging'] for p in df.index) <= 3600\n",
    "model += lpSum(Number[p] * df.loc[p,'nuts'] for p in df.index) <= 1100\n",
    "model += lpSum(Number[p] * df.loc[p,'chocolate'] for p in df.index) <= 800\n",
    "print(model.solve())\n",
    "print(LpStatus[model.status])\n",
    "print(model.objective.value())\n",
    "for name, constraint in model.constraints.items(): print(f\"{name}: {(constraint.value() - constraint.constant)}\")"
   ]
  },
  {
   "cell_type": "markdown",
   "id": "a3b74d7d",
   "metadata": {},
   "source": [
    "- Expanding Packaging Machines"
   ]
  },
  {
   "cell_type": "code",
   "execution_count": 29,
   "id": "aebae863",
   "metadata": {
    "scrolled": true
   },
   "outputs": [
    {
     "name": "stdout",
     "output_type": "stream",
     "text": [
      "1\n",
      "Optimal\n",
      "3076.0416019500003\n",
      "_C1: 1273.3333\n",
      "_C2: 400.0\n",
      "_C3: 400.0\n",
      "_C4: 63.33333300000001\n",
      "_C5: 97.5\n",
      "_C6: 1834.1666330000003\n",
      "_C7: 3599.999933\n",
      "_C8: 1565.9999666000003\n",
      "_C9: 3999.9999162500003\n",
      "_C10: 1034.1666466\n",
      "_C11: 799.9999864\n"
     ]
    }
   ],
   "source": [
    "model = LpProblem(\"ProductDecision\", LpMaximize)\n",
    "Number = LpVariable.dicts(\"productNum_\", df.index , lowBound = 0)\n",
    "model += lpSum(Number[p] * df.loc[p,'price'] for p in df.index)\n",
    "model += Number['Whole'] >= 1000\n",
    "model += Number['Cluster'] >= 400\n",
    "model += Number['Cluster'] <= 500\n",
    "model += Number['Crunch'] <= 150\n",
    "model += Number['Roasted'] <= 200\n",
    "machine = ['Hulling', 'Roasting', 'Coating', 'Packaging']\n",
    "model += lpSum(Number[p] * df.loc[p,'Hulling'] for p in df.index) <= 3600\n",
    "model += lpSum(Number[p] * df.loc[p,'Roasting'] for p in df.index) <= 3600\n",
    "model += lpSum(Number[p] * df.loc[p,'Coating'] for p in df.index) <= 3600\n",
    "model += lpSum(Number[p] * df.loc[p,'Packaging'] for p in df.index) <= 4000\n",
    "model += lpSum(Number[p] * df.loc[p,'nuts'] for p in df.index) <= 1100\n",
    "model += lpSum(Number[p] * df.loc[p,'chocolate'] for p in df.index) <= 800\n",
    "print(model.solve())\n",
    "print(LpStatus[model.status])\n",
    "print(model.objective.value())\n",
    "for name, constraint in model.constraints.items(): print(f\"{name}: {(constraint.value() - constraint.constant)}\")"
   ]
  },
  {
   "cell_type": "markdown",
   "id": "911ee7d4",
   "metadata": {},
   "source": [
    "Based on two tests above, we can find that expanding packaging machine can bring more variable margin. As a result, I recommend the company to target on the packaging machine."
   ]
  }
 ],
 "metadata": {
  "kernelspec": {
   "display_name": "Python 3",
   "language": "python",
   "name": "python3"
  },
  "language_info": {
   "codemirror_mode": {
    "name": "ipython",
    "version": 3
   },
   "file_extension": ".py",
   "mimetype": "text/x-python",
   "name": "python",
   "nbconvert_exporter": "python",
   "pygments_lexer": "ipython3",
   "version": "3.8.8"
  }
 },
 "nbformat": 4,
 "nbformat_minor": 5
}
